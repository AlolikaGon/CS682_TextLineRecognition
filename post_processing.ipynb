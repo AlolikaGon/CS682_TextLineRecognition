{
  "nbformat": 4,
  "nbformat_minor": 0,
  "metadata": {
    "colab": {
      "name": "post_processing.ipynb",
      "provenance": [],
      "collapsed_sections": []
    },
    "kernelspec": {
      "display_name": "Python 3",
      "name": "python3"
    },
    "accelerator": "GPU"
  },
  "cells": [
    {
      "cell_type": "code",
      "metadata": {
        "colab": {
          "base_uri": "https://localhost:8080/"
        },
        "id": "PWbn5bPxwDY-",
        "outputId": "9533ebd3-4b45-4766-a711-c02e0d9cee52"
      },
      "source": [
        "from google.colab import drive\n",
        "drive.mount('/gdrive')"
      ],
      "execution_count": null,
      "outputs": [
        {
          "output_type": "stream",
          "text": [
            "Mounted at /gdrive\n"
          ],
          "name": "stdout"
        }
      ]
    },
    {
      "cell_type": "code",
      "metadata": {
        "colab": {
          "base_uri": "https://localhost:8080/"
        },
        "id": "tRSod9SCwVYm",
        "outputId": "eee6f17e-806e-4569-a351-cfc4024d7f20"
      },
      "source": [
        "import pickle\n",
        "import os\n",
        "import json\n",
        "import numpy as np\n",
        "import random\n",
        "#from PIL import Image\n",
        "import torch\n",
        "import matplotlib.pyplot as plt\n",
        "\n",
        "from torchvision import transforms\n",
        "import torch\n",
        "import torch.nn as nn\n",
        "import torch.optim as optim\n",
        "from torch.utils.data import Dataset, DataLoader\n",
        "from torchvision import transforms, utils\n",
        "from torch.utils.data import sampler\n",
        "import torch.nn.functional as F\n",
        "\n",
        "from skimage.transform import resize\n",
        "from skimage import io, transform, util\n",
        "from scipy.signal import argrelextrema\n",
        "from sklearn.metrics import pairwise_distances\n",
        "from operator import itemgetter\n",
        "from skimage.filters import threshold_mean\n",
        "\n",
        "\n",
        "from skimage.util import img_as_uint #crop\n",
        "from skimage.color import rgb2gray\n",
        "import sys\n",
        "\n",
        "from scipy.stats import ks_2samp, anderson_ksamp\n",
        "\n",
        "# from Levenshtein import distance as levenshtein_distance\n",
        "from keras.models import load_model\n",
        "import h5py\n",
        "import matplotlib.pyplot as plt\n",
        "\n",
        "device = torch.device('cuda') #torch.cuda.get_device_name(0)\n",
        "dtype = torch.float32\n",
        "\n",
        "pkl_file = open('/gdrive/My Drive/datasets/filenames.pkl', 'rb')\n",
        "filenames = pickle.load(pkl_file)\n",
        "pkl_file.close()\n",
        "print(filenames['train_data'][0])"
      ],
      "execution_count": null,
      "outputs": [
        {
          "output_type": "stream",
          "text": [
            "['datasets/train_data_icdar2019/strings/Century_bold_italic_serif.ttf/images/strip_07_000_0_0.png', 'datasets/train_data_icdar2019/strings/Century_bold_italic_serif.ttf/markup/strip_07_000_0_0.png.json']\n"
          ],
          "name": "stdout"
        }
      ]
    },
    {
      "cell_type": "code",
      "metadata": {
        "colab": {
          "base_uri": "https://localhost:8080/"
        },
        "id": "j0RrCxysqjf6",
        "outputId": "e4696e00-5145-4dcb-dc8c-b2529134dc9d"
      },
      "source": [
        "sum([len(filenames[k]) for k in filenames])"
      ],
      "execution_count": null,
      "outputs": [
        {
          "output_type": "execute_result",
          "data": {
            "text/plain": [
              "7292"
            ]
          },
          "metadata": {
            "tags": []
          },
          "execution_count": 3
        }
      ]
    },
    {
      "cell_type": "code",
      "metadata": {
        "colab": {
          "base_uri": "https://localhost:8080/"
        },
        "id": "7YXVimRBcdr1",
        "outputId": "4a5b7fd3-b8a1-41cb-d677-29f57b5b4547"
      },
      "source": [
        "!pip install python-levenshtein\n",
        "from Levenshtein import distance as levenshtein_distance"
      ],
      "execution_count": null,
      "outputs": [
        {
          "output_type": "stream",
          "text": [
            "Collecting python-levenshtein\n",
            "\u001b[?25l  Downloading https://files.pythonhosted.org/packages/42/a9/d1785c85ebf9b7dfacd08938dd028209c34a0ea3b1bcdb895208bd40a67d/python-Levenshtein-0.12.0.tar.gz (48kB)\n",
            "\r\u001b[K     |██████▊                         | 10kB 23.5MB/s eta 0:00:01\r\u001b[K     |█████████████▌                  | 20kB 28.2MB/s eta 0:00:01\r\u001b[K     |████████████████████▏           | 30kB 17.5MB/s eta 0:00:01\r\u001b[K     |███████████████████████████     | 40kB 11.9MB/s eta 0:00:01\r\u001b[K     |████████████████████████████████| 51kB 4.5MB/s \n",
            "\u001b[?25hRequirement already satisfied: setuptools in /usr/local/lib/python3.6/dist-packages (from python-levenshtein) (50.3.2)\n",
            "Building wheels for collected packages: python-levenshtein\n",
            "  Building wheel for python-levenshtein (setup.py) ... \u001b[?25l\u001b[?25hdone\n",
            "  Created wheel for python-levenshtein: filename=python_Levenshtein-0.12.0-cp36-cp36m-linux_x86_64.whl size=144797 sha256=7729f53c81ca121a16fb05bf7a418ca06b5243f681361672f7ebd970c43d1c56\n",
            "  Stored in directory: /root/.cache/pip/wheels/de/c2/93/660fd5f7559049268ad2dc6d81c4e39e9e36518766eaf7e342\n",
            "Successfully built python-levenshtein\n",
            "Installing collected packages: python-levenshtein\n",
            "Successfully installed python-levenshtein-0.12.0\n"
          ],
          "name": "stdout"
        }
      ]
    },
    {
      "cell_type": "code",
      "metadata": {
        "id": "_6_8QWMgbuBf"
      },
      "source": [
        "classifier = load_model(\"classifierpaper_70classes-2-95.34.h5\")\n"
      ],
      "execution_count": null,
      "outputs": []
    },
    {
      "cell_type": "code",
      "metadata": {
        "id": "dCqXdeSFxoQf"
      },
      "source": [
        "label_map = {'(': 0, ')': 1, ',': 2, '.' :3, '-': 4, '/': 5, '<': 6, ' ':7}\n",
        "for i in range(10):\n",
        "    label_map[chr(48+i)] = 8+i\n",
        "for i in range(26):\n",
        "    label_map[chr(65+i)] = 18+i\n",
        "for i in range(26):\n",
        "    label_map[chr(97+i)] = 44+i"
      ],
      "execution_count": null,
      "outputs": []
    },
    {
      "cell_type": "code",
      "metadata": {
        "id": "_wnnXU26mUY5"
      },
      "source": [
        "#PCR for 100% accurate segmentation projection \n",
        "res_lev_dist = []\n",
        "res_length = []\n",
        "orig_length = []\n",
        "fd_min, fd_max, fd_mean = [],  [], []\n",
        "w_h_min, w_h_max, w_h_mean = [], [], []\n",
        "for dataset in ['train_data']:\n",
        "  for _f in filenames[dataset]:\n",
        "    image = img_as_uint(io.imread('/gdrive/My Drive/'+_f[0], as_gray=True))\n",
        "    with open('/gdrive/My Drive/'+_f[1], 'r') as fp:\n",
        "        label = json.load(fp)\n",
        "    fd = []\n",
        "    w_h = []\n",
        "    for item in label:\n",
        "        X_test = []\n",
        "        x, y, w, h = item['line_rect']\n",
        "        orig_str = ''\n",
        "        for ch in [chr(k) for k in item['values']]:\n",
        "          orig_str += ch\n",
        "        img_crop = image[y:y+h, x:x+w] #crop(image, ((y, y+h), (x, x+w)))\n",
        "        img_crop = resize(img_crop, (33, 700))\n",
        "        index = (np.asarray(item['cuts_x']) - x) *699/w\n",
        "        index = index.astype(int)\n",
        "        \n",
        "        for i in range(len(index)):\n",
        "          if i ==0 :\n",
        "            image_char = img_crop[:, 0:index[i]]\n",
        "          else:\n",
        "            image_char = img_crop[:, index[i-1]:index[i]]\n",
        "          if image_char.shape[1] == 0:\n",
        "            continue\n",
        "          fd.append(image_char.shape[1])\n",
        "          w_h.append(image_char.shape[1]/image_char.shape[0])\n",
        "          img_resize = resize(image_char, (15,19))\n",
        "          X_test.append(img_resize)\n",
        "        X_test = np.asarray(X_test)\n",
        "        X_test = X_test.reshape(X_test.shape[0], 15, 19, 1)\n",
        "        class_probs = np.asarray(classifier.predict(X_test))\n",
        "        max_scores = np.max(class_probs, axis=1)\n",
        "        max_scores_index = np.argmax(class_probs, axis=1)\n",
        "        output_str = ''\n",
        "        for s in max_scores_index:\n",
        "            for k, v in label_map.items():\n",
        "                if v == s:\n",
        "                    output_str += k\n",
        "        lev_dist = levenshtein_distance(orig_str, output_str)\n",
        "        res_lev_dist.append(lev_dist)\n",
        "        res_length.append(len(output_str))\n",
        "        orig_length.append(len(orig_str))\n",
        "    fd_min.append(np.min(fd))\n",
        "    fd_max.append(np.max(fd))\n",
        "    fd_mean.append(np.mean(fd))\n",
        "    w_h_min.append(np.min(w_h))\n",
        "    w_h_max.append(np.max(w_h))\n",
        "    w_h_mean.append(np.mean(w_h))\n",
        "\n"
      ],
      "execution_count": null,
      "outputs": []
    },
    {
      "cell_type": "code",
      "metadata": {
        "id": "JqCtrOYaDY6E"
      },
      "source": [
        "fd = {}\n",
        "fd['fd_min'] = fd_min\n",
        "fd['fd_max'] = fd_max\n",
        "fd['fd_mean'] = fd_mean\n",
        "fd['w_h_min'] = w_h_min\n",
        "fd['w_h_max'] = w_h_max\n",
        "fd['w_h_mean'] = w_h_mean\n",
        "\n",
        "output = open('fd.pkl', 'wb')\n",
        "pickle.dump(fd, output)\n",
        "output.close()\n",
        "\n",
        "!cp '/content/fd.pkl' '/gdrive/My Drive/datasets/fd.pkl'"
      ],
      "execution_count": null,
      "outputs": []
    },
    {
      "cell_type": "code",
      "metadata": {
        "colab": {
          "base_uri": "https://localhost:8080/"
        },
        "id": "DY3pUH4aqiZP",
        "outputId": "032552c6-7fda-4a2f-da2e-3ecff9592d8a"
      },
      "source": [
        "PCR = 0\n",
        "for i in range(len(res_lev_dist)):\n",
        "  PCR += min(res_lev_dist[i], res_length[i])\n",
        "PCR /= sum(res_length)\n",
        "PCR = (1 - PCR) * 100\n",
        "\n",
        "print(PCR) #test-data\n",
        "print(np.mean(res_lev_dist))\n",
        "print(np.sum([res_lev_dist[i] * res_length[i] for i in range(len(res_lev_dist))])/ np.sum(res_length))"
      ],
      "execution_count": null,
      "outputs": [
        {
          "output_type": "stream",
          "text": [
            "81.13091309130913\n",
            "7.106977541573804\n",
            "7.361103144797238\n"
          ],
          "name": "stdout"
        }
      ]
    },
    {
      "cell_type": "code",
      "metadata": {
        "colab": {
          "base_uri": "https://localhost:8080/"
        },
        "id": "Z9t6-PWE0obM",
        "outputId": "5d093fb4-74e8-4b87-8928-6a4dec064e2a"
      },
      "source": [
        "print(\"fd min max mean\", np.mean(fd_min), np.mean(fd_max), np.mean(fd_mean))\n",
        "print(\"w_h min max mean\", np.mean(w_h_min), np.mean(w_h_max), np.mean(w_h_mean))"
      ],
      "execution_count": null,
      "outputs": [
        {
          "output_type": "stream",
          "text": [
            "fd min max mean 7.6914109377678725 46.659694839705125 18.398569863188406\n",
            "w_h min max mean 0.23307305872023856 1.4139301466577312 0.5575324200966185\n"
          ],
          "name": "stdout"
        }
      ]
    },
    {
      "cell_type": "code",
      "metadata": {
        "colab": {
          "base_uri": "https://localhost:8080/",
          "height": 498
        },
        "id": "cuvEPV3fGCWY",
        "outputId": "939c5082-397a-4047-8b96-e6acd825c7e0"
      },
      "source": [
        "X_test = []\n",
        "chr_str = ''\n",
        "image = img_as_uint(io.imread('/gdrive/My Drive/'+filenames['train_data'][0][0], as_gray=True))\n",
        "print(image.shape)\n",
        "plt.figure()\n",
        "plt.imshow(image, cmap='gray')\n",
        "plt.show()\n",
        "with open('/gdrive/My Drive/'+filenames['train_data'][0][1], 'r') as fp:\n",
        "    label = json.load(fp)\n",
        "for item in label:\n",
        "    x, y, w, h = item['line_rect']\n",
        "    sample = {}\n",
        "    img_crop = image[y:y+h, x:x+w] #crop(image, ((y, y+h), (x, x+w)))\n",
        "    img_crop = resize(img_crop, (33, 700))\n",
        "    plt.figure()\n",
        "    plt.imshow(img_crop, cmap='gray')\n",
        "    plt.show()\n",
        "    # print(img_crop.shape, np.max(item['cuts_x']), np.min(item['cuts_x']), x)\n",
        "    \n",
        "    index = (np.asarray(item['cuts_x']) - x) *699/w\n",
        "    index = index.astype(int)\n",
        "    # img_crop_rgb = gray2rgb(img_crop)\n",
        "    for i in range(len(index)):\n",
        "      if i ==0 :\n",
        "        image_char = img_crop[:, 0:index[i]]\n",
        "      else:\n",
        "        image_char = img_crop[:, index[i-1]:index[i]]\n",
        "      img_resize = resize(image_char, (15,19))\n",
        "      # print(img_resize.shape)\n",
        "      X_test.append(img_resize)\n",
        "    for i in index:\n",
        "      img_crop[:, i] = 0\n",
        "      # img_crop_rgb[:, i, 0] = 255\n",
        "      # img_crop_rgb[:, i, 1] = 0\n",
        "      # img_crop_rgb[:, i, 2] = 0\n",
        "    plt.figure()\n",
        "    plt.imshow(img_crop, cmap='gray')\n",
        "    plt.show()\n",
        "    output = '\"'\n",
        "    for ch in [chr(k) for k in item['values']]:\n",
        "      output += ch\n",
        "      chr_str += ch\n",
        "    output += '\"'\n",
        "    print(\"\\t\",output)\n"
      ],
      "execution_count": null,
      "outputs": [
        {
          "output_type": "stream",
          "text": [
            "(234, 1000)\n"
          ],
          "name": "stdout"
        },
        {
          "output_type": "display_data",
          "data": {
            "image/png": "[encoded data removed]",
            "text/plain": [
              "<Figure size 432x288 with 1 Axes>"
            ]
          },
          "metadata": {
            "tags": []
          }
        },
        {
          "output_type": "display_data",
          "data": {
            "image/png": "[encoded data removed]",
            "text/plain": [
              "<Figure size 432x288 with 1 Axes>"
            ]
          },
          "metadata": {
            "tags": []
          }
        },
        {
          "output_type": "display_data",
          "data": {
            "image/png": "[encoded data removed]",
            "text/plain": [
              "<Figure size 432x288 with 1 Axes>"
            ]
          },
          "metadata": {
            "tags": []
          }
        },
        {
          "output_type": "stream",
          "text": [
            "\t \"/vY.gpH4S(g)UX53KN2EfNNeE8jT 88A-2\"\n"
          ],
          "name": "stdout"
        },
        {
          "output_type": "display_data",
          "data": {
            "image/png": "[encoded data removed]",
            "text/plain": [
              "<Figure size 432x288 with 1 Axes>"
            ]
          },
          "metadata": {
            "tags": []
          }
        },
        {
          "output_type": "display_data",
          "data": {
            "image/png": "[encoded data removed]",
            "text/plain": [
              "<Figure size 432x288 with 1 Axes>"
            ]
          },
          "metadata": {
            "tags": []
          }
        },
        {
          "output_type": "stream",
          "text": [
            "\t \"/4 uWQE9xu,bpA- x5MHcxOM6A6)B2s9< \"\n"
          ],
          "name": "stdout"
        },
        {
          "output_type": "display_data",
          "data": {
            "image/png": "[encoded data removed]",
            "text/plain": [
              "<Figure size 432x288 with 1 Axes>"
            ]
          },
          "metadata": {
            "tags": []
          }
        },
        {
          "output_type": "display_data",
          "data": {
            "image/png": "[encoded data removed]",
            "text/plain": [
              "<Figure size 432x288 with 1 Axes>"
            ]
          },
          "metadata": {
            "tags": []
          }
        },
        {
          "output_type": "stream",
          "text": [
            "\t \"hiE6D/C6yE<zm5v90i.ny97ngUQcNteOI\"\n"
          ],
          "name": "stdout"
        }
      ]
    },
    {
      "cell_type": "code",
      "metadata": {
        "colab": {
          "base_uri": "https://localhost:8080/"
        },
        "id": "tnBUMg7GHKHc",
        "outputId": "44dd1b86-a77a-4b39-aa7a-b49731561a8a"
      },
      "source": [
        "X_test = np.asarray(X_test)\n",
        "X_test = X_test.reshape(X_test.shape[0], 15, 19, 1)\n",
        "X_test.shape"
      ],
      "execution_count": null,
      "outputs": [
        {
          "output_type": "execute_result",
          "data": {
            "text/plain": [
              "(98, 15, 19, 1)"
            ]
          },
          "metadata": {
            "tags": []
          },
          "execution_count": 6
        }
      ]
    },
    {
      "cell_type": "code",
      "metadata": {
        "colab": {
          "base_uri": "https://localhost:8080/"
        },
        "id": "Pj7lu5FYdWbe",
        "outputId": "55dd8353-f12e-464b-cb89-ee15c6ba84a9"
      },
      "source": [
        "\n",
        "# classifier = load_model(\"classifierpaper_70classes-2-95.34.h5\")\n",
        "class_probs = np.asarray(classifier.predict(X_test))\n",
        "max_scores = np.max(class_probs, axis=1)\n",
        "max_scores_index = np.argmax(class_probs, axis=1)\n",
        "output_str = ''\n",
        "for s in max_scores_index:\n",
        "#         if s in range(0,10):\n",
        "#             output_str += str(s)\n",
        "#         elif s in range(10, 37):\n",
        "#             output_str += chr(65 + (s-10))\n",
        "#         else:\n",
        "#             output_str += chr(97 + (s-36))\n",
        "    for k, v in label_map.items():\n",
        "        if v == s:\n",
        "            output_str += k\n",
        "print(output_str)"
      ],
      "execution_count": null,
      "outputs": [
        {
          "output_type": "stream",
          "text": [
            "/vY.gpH4S(yyUX53KN2EfNNeE8iT 88A-L4 wWQE9vu-bpn- w5MHcxOMGAGyB2s9<hiE6DLCGyE<zm5v9Oi.ny97ngUQcNteO\n"
          ],
          "name": "stdout"
        }
      ]
    },
    {
      "cell_type": "code",
      "metadata": {
        "colab": {
          "base_uri": "https://localhost:8080/"
        },
        "id": "bDv5DzDw4Mh5",
        "outputId": "ef091a0e-97cc-4e78-8132-07fa16348fa5"
      },
      "source": [
        "# np.min(w_list) #min w 717"
      ],
      "execution_count": null,
      "outputs": [
        {
          "output_type": "execute_result",
          "data": {
            "text/plain": [
              "776"
            ]
          },
          "metadata": {
            "tags": []
          },
          "execution_count": 19
        }
      ]
    },
    {
      "cell_type": "code",
      "metadata": {
        "id": "lm4LERU6KMto"
      },
      "source": [
        "\n",
        "\n",
        "class SegmentaionDataset(Dataset):\n",
        "\n",
        "    def __init__(self, root_dir, dataset='train_data', transform=None):\n",
        "        \"\"\"\n",
        "        Args:\n",
        "            root_dir (string): Directory with all the images.\n",
        "            transform (callable, optional): Optional transform to be applied\n",
        "                on a sample.\n",
        "        \"\"\"\n",
        "        # label_map = {'(': 0, ')': 1, ',': 2, '.' :3, '-': 4, '/': 5, '<': 6, ' ':7}\n",
        "        # for i in range(10):\n",
        "        #     label_map[chr(48+i)] = 8+i\n",
        "        # for i in range(26):\n",
        "        #     label_map[chr(65+i)] = 18+i\n",
        "        #     label_map[chr(97+i)] = 18+i\n",
        "\n",
        "        label_map = {'(': 0, ')': 1, ',': 2, '.' :3, '-': 4, '/': 5, '<': 6, ' ':7}\n",
        "        for i in range(10):\n",
        "            label_map[chr(48+i)] = 8+i\n",
        "        for i in range(26):\n",
        "            label_map[chr(65+i)] = 18+i\n",
        "        for i in range(26):\n",
        "            label_map[chr(97+i)] = 44+i\n",
        "\n",
        "        char_list_dict = {}\n",
        "        char_i= 0\n",
        "        self.root_dir = root_dir \n",
        "        pkl_file = open(root_dir, 'rb')\n",
        "        filenames = pickle.load(pkl_file)\n",
        "        pkl_file.close()     \n",
        "        self.transform = transform\n",
        "        self.sample_list = []\n",
        "        for _f in filenames[dataset]:\n",
        "            image = img_as_uint(io.imread('/gdrive/My Drive/'+_f[0], as_gray=True))\n",
        "            with open('/gdrive/My Drive/'+_f[1], 'r') as fp:\n",
        "                label = json.load(fp)\n",
        "            for item in label:\n",
        "                x, y, w, h = item['line_rect']\n",
        "                sample = {}\n",
        "                img_crop = image[y:y+h, x:x+w] #crop(image, ((y, y+h), (x, x+w)))\n",
        "                sample['image'] = resize(img_crop, (33, 700)).reshape(1,33,700)\n",
        "                index = (np.asarray(item['cuts_x']) - x) * (699/w)\n",
        "                index = ( index ).astype(int)\n",
        "                x_cuts = np.zeros(700)\n",
        "                if index.shape[0] > x_cuts.shape[0]:\n",
        "                  print(index.shape, x_cuts.shape, (700/w))\n",
        "                  print(index[0:10])\n",
        "                x_cuts[index] = 1\n",
        "                \n",
        "                sample['landmark'] = x_cuts.reshape((1,1,700))\n",
        "                char_list = [chr(val) for val in item['values']]\n",
        "                sample['values'] = char_i\n",
        "                char_list_dict[char_i] = char_list\n",
        "                char_i += 1\n",
        "                self.sample_list.append(sample)\n",
        "\n",
        "        output = open('char_list_dict.pkl', 'wb')\n",
        "        pickle.dump(char_list_dict, output)\n",
        "        output.close()\n",
        "                    \n",
        "\n",
        "    def __len__(self):\n",
        "        return len(self.sample_list)\n",
        "\n",
        "    def __getitem__(self, idx):\n",
        "        if torch.is_tensor(idx):\n",
        "            idx = idx.tolist()\n",
        "        if self.transform:\n",
        "            for item in range(len(self.sample_list)):\n",
        "                self.sample_list[item] = self.transform(self.sample_list[item])\n",
        "        return self.sample_list[idx]\n",
        "\n",
        "\n",
        "class ToTensor(object):\n",
        "    \"\"\"Convert ndarrays in sample to Tensors.\"\"\"\n",
        "\n",
        "    def __call__(self, sample):\n",
        "        image, landmarks, val = sample['image'], sample['landmark'], sample['values']\n",
        "\n",
        "        # swap color axis because\n",
        "        # numpy image: H x W x C\n",
        "        # torch image: C X H X W\n",
        "        \n",
        "        #image = image.transpose((2, 0, 1))\n",
        "        if not torch.is_tensor(image):\n",
        "            image = torch.from_numpy(image)\n",
        "        if not torch.is_tensor(landmarks):\n",
        "            landmarks = torch.from_numpy(landmarks)\n",
        "        return {'image': image,\n",
        "                'landmark': landmarks, 'values': val}\n",
        "\n",
        "val_dataset = SegmentaionDataset('/gdrive/My Drive/datasets/filenames.pkl', dataset='test_data',\n",
        "                                           transform=transforms.Compose([ToTensor()]))"
      ],
      "execution_count": null,
      "outputs": []
    },
    {
      "cell_type": "code",
      "metadata": {
        "colab": {
          "base_uri": "https://localhost:8080/"
        },
        "id": "Sb3oHqt8XuIz",
        "outputId": "e9ed250f-17e5-46ac-835c-8cfffa4c0458"
      },
      "source": [
        "print(len(val_dataset))\n",
        "loader_val = torch.utils.data.DataLoader(val_dataset, batch_size = len(val_dataset), \n",
        "                                           sampler=sampler.SubsetRandomSampler(range(len(val_dataset))))"
      ],
      "execution_count": null,
      "outputs": [
        {
          "output_type": "stream",
          "text": [
            "2190\n"
          ],
          "name": "stdout"
        }
      ]
    },
    {
      "cell_type": "code",
      "metadata": {
        "colab": {
          "base_uri": "https://localhost:8080/"
        },
        "id": "v_8I860qYTrp",
        "outputId": "560b604b-5211-4df8-85d1-49786d5b005b"
      },
      "source": [
        "def my_custom_euclidean(x, y):\n",
        "    return torch.mean(torch.sqrt(torch.sum(torch.square(x-y), dim=-1)))\n",
        "\n",
        "class CustomActivation(nn.Module):\n",
        "    def __init__(self, mean=0, std=1, _min=0.0, _max=1.0):\n",
        "        super(CustomActivation, self).__init__()\n",
        "        self.mean = mean\n",
        "        self.std = std\n",
        "        self.min = _min\n",
        "        self.max = _max\n",
        "        \n",
        "    def forward(self, x):\n",
        "        gauss = torch.exp((-(x - self.mean)**2)/(2*self.std**2))\n",
        "        return torch.clamp(gauss, min=self.min, max=self.max)\n",
        "    \n",
        "class CustomActivation_inverse_quadratic(nn.Module):\n",
        "    def __init__(self, epsilon=1):\n",
        "        super(CustomActivation_inverse_quadratic, self).__init__()\n",
        "        self.epsilon = epsilon\n",
        "        \n",
        "    def forward(self, x):\n",
        "        return 1/(1 + (self.epsilon*x)**2)\n",
        "    \n",
        "class CustomActivation_multiquadratic(nn.Module):\n",
        "    def __init__(self, epsilon=1):\n",
        "        super(CustomActivation_multiquadratic, self).__init__()\n",
        "        self.epsilon = epsilon\n",
        "        \n",
        "    def forward(self, x):\n",
        "        return torch.sqrt(1 + (self.epsilon*x)**2)\n",
        "    \n",
        "class CustomActivation_inverse_multiquadratic(nn.Module):\n",
        "    def __init__(self, epsilon=1):\n",
        "        super(CustomActivation_inverse_multiquadratic, self).__init__()\n",
        "        self.epsilon = epsilon\n",
        "        \n",
        "    def forward(self, x):\n",
        "        return 1/torch.sqrt(1 + (self.epsilon*x)**2)\n",
        "    \n",
        "def check_accuracy_part34(loader, model):   \n",
        "    num_correct = 0\n",
        "    num_samples = 0\n",
        "    total_loss = []\n",
        "    orig_ks_loss = [[], []]\n",
        "    ks_loss = [[], []]\n",
        "    model.eval()  # set model to evaluation mode\n",
        "    with torch.no_grad():\n",
        "        for t, x_y in enumerate(loader):\n",
        "            x = x_y['image']\n",
        "            y = x_y['landmark']\n",
        "            x = x.to(device=device, dtype=dtype)  # move to device, e.g. GPU\n",
        "            y = y.to(device=device, dtype=torch.float32)\n",
        "            scores = model(x)\n",
        "#             loss = torch.dist(scores, y)\n",
        "#             total_loss.append(loss.item())\n",
        "            loss = my_custom_euclidean(scores,y)\n",
        "            total_loss.append(float(loss))\n",
        "            scores_numpy = scores.detach().cpu().numpy()\n",
        "            scores_numpy = scores_numpy.reshape((scores_numpy.shape[0], -1))\n",
        "            y_numpy = y.detach().cpu().numpy()\n",
        "            y_numpy = y_numpy.reshape((y_numpy.shape[0], -1))\n",
        "            for i in range(len(scores_numpy)):\n",
        "                index_max = argrelextrema(scores_numpy[i], np.greater)[0]\n",
        "                score_proj  = np.zeros(y_numpy[i].shape)\n",
        "                score_proj[index_max] = 1\n",
        "                stat, pvalue = ks_2samp(score_proj, y_numpy[i])\n",
        "                ks_loss[0].append(stat)\n",
        "                ks_loss[1].append(pvalue)\n",
        "                stat, pvalue = ks_2samp(scores_numpy[i], y_numpy[i])\n",
        "                orig_ks_loss[0].append(stat)\n",
        "                orig_ks_loss[1].append(pvalue)\n",
        "    print('train/val loss = %.4f' % (np.mean(np.asarray(total_loss))))\n",
        "    print('ks_test (stat pvalue) = %.4f, %.4f' %(np.mean(ks_loss[0]), np.mean(ks_loss[1])))\n",
        "    print('orig ks_test (stat pvalue) = %.4f, %.4f' %(np.mean(orig_ks_loss[0]), np.mean(orig_ks_loss[1])))\n",
        "        \n",
        "               \n",
        "def flatten(x):\n",
        "    N = x.shape[0] # read in N, C, H, W\n",
        "    return x.view(N, -1)  # \"flatten\" the C * H * W values into a single vector per image\n",
        "\n",
        "# model = torch.load(\"segmenter_inverse_multiquadratic_distloss_700.h5\")\n",
        "model = torch.load(\"/content/segmenter_gaussian_mse_relu_700.h5\")\n",
        "model.eval()\n",
        "check_accuracy_part34(loader_val, model)"
      ],
      "execution_count": null,
      "outputs": [
        {
          "output_type": "stream",
          "text": [
            "train/val loss = 4.8701\n",
            "ks_test (stat pvalue) = 0.0966, 0.0102\n",
            "orig ks_test (stat pvalue) = 0.9460, 0.0000\n"
          ],
          "name": "stdout"
        }
      ]
    },
    {
      "cell_type": "code",
      "metadata": {
        "id": "_Kb0TQs5a3ST"
      },
      "source": [
        "\n",
        "# label map if case sensitive\n",
        "label_map = {'(': 0, ')': 1, ',': 2, '.' :3, '-': 4, '/': 5, '<': 6, ' ':7}\n",
        "for i in range(10):\n",
        "    label_map[chr(48+i)] = 8+i\n",
        "for i in range(26):\n",
        "    label_map[chr(65+i)] = 18+i\n",
        "for i in range(26):\n",
        "    label_map[chr(97+i)] = 44+i\n",
        "\n",
        "pkl_file = open('char_list_dict.pkl', 'rb')\n",
        "char_list_dict = pickle.load(pkl_file)\n",
        "pkl_file.close()\n",
        "\n",
        "pkl_file = open('/gdrive/My Drive/datasets/fd.pkl', 'rb')\n",
        "fd = pickle.load(pkl_file)\n",
        "pkl_file.close()\n",
        "\n",
        "\n",
        "fd_min, fd_max, fd_mean, w_h_min, w_h_max, w_h_mean = fd['fd_min'], fd['fd_max'], fd['fd_mean'], fd['w_h_min'], fd['w_h_max'], fd['w_h_mean']\n",
        "\n",
        "# classifier = load_model(\"classifierpaper_synthetic.h5\")\n",
        "dist_list = []\n",
        "dist1_list = []\n",
        "len_list = []\n",
        "\n",
        "dist_list1 = []\n",
        "dist1_list1 = []\n",
        "len_list1 = []\n",
        "\n",
        "dist_list2 = []\n",
        "dist1_list2 = []\n",
        "len_list2 = []\n",
        "\n",
        "_fd_min = np.floor(np.mean(fd_min))\n",
        "_fd_max = np.ceil(np.mean(fd_max))\n",
        "_fd_mean = np.mean(fd_mean) #[18.18]\n",
        "\n",
        "#predict cuts\n",
        "with torch.no_grad():\n",
        "    for t, x_y in enumerate(loader_val):\n",
        "        x = x_y['image']\n",
        "        y = x_y['landmark']\n",
        "        x = x.to(device=device, dtype=dtype)  # move to device, e.g. GPU\n",
        "        y = y.to(device=device, dtype=torch.float32)\n",
        "        char_val = x_y['values']\n",
        "        scores_test = model(x)\n",
        "batch_size, _, ht, wd = x.size()\n",
        "#convert to numpy\n",
        "scores_temp = scores_test.cpu().detach().numpy()\n",
        "scores_temp = scores_temp.reshape((batch_size, -1))\n",
        "\n",
        "images = x.detach().cpu().detach().numpy()\n",
        "images = images.reshape((batch_size,ht,wd))\n",
        "#actual result\n",
        "scores_actual = y.detach().cpu().detach().numpy()\n",
        "scores_actual = scores_actual.reshape((scores_actual.shape[0], -1))\n",
        "for i in range(batch_size):\n",
        "    image_example = images[i]\n",
        "    score_example = scores_temp[i]\n",
        "    \n",
        "    index_actual = np.where(scores_actual[i]==1)[0]\n",
        "    # print(np.sum(scores_actual[100]))\n",
        "    char_list = char_list_dict[int(char_val[i])]\n",
        "    # orig str\n",
        "    char_str = ''\n",
        "    for c in char_list:\n",
        "        char_str += c\n",
        "\n",
        "    #local maxima indices\n",
        "    index_P = argrelextrema(score_example, np.greater)[0] #index of local maxima\n",
        "    index_P_01 = np.zeros(score_example.shape) \n",
        "    index_P_01[index_P] = 1 \n",
        "\n",
        "\n",
        "    #dist between left and right index of cuts\n",
        "    #len(index_P)xlen(index_P)\n",
        "    dist = pairwise_distances(np.asarray(index_P).reshape(-1,1), metric='manhattan') \n",
        "    #index pairs such that width is betwwen fd-min and fd-max\n",
        "    l, r = np.where((dist>= np.min(fd_min)) & (dist<= np.min(fd_max)))\n",
        "    # l, r = np.where((dist/33>= np.min(w_h_min)) & (dist/33<= np.min(w_h_max)))\n",
        "    #top m = img_width/mean_char_width choices\n",
        "    l_r = []\n",
        "\n",
        "    for j in range(len(l)):\n",
        "        if l[j] < r[j] and (index_P[int(r[j])] - index_P[int(l[j])])/33 >= np.mean(w_h_min) and (index_P[int(r[j])] - index_P[int(l[j])])/33 <= np.mean(w_h_max):\n",
        "            try:\n",
        "                l_r.append([ index_P[int(l[j])], index_P[int(r[j])], \n",
        "                                     score_example[index_P[int(l[j])]] + score_example[index_P[int(r[j])]] ])\n",
        "            except TypeError:\n",
        "                print(\"AAH\", l[j], r[j], len(index_P), )\n",
        "\n",
        "    # l_r = l_r[l_r[:,2].argsort()] #sort according to P(l) +P(r)\n",
        "    l_r_sorted = sorted(l_r, key = itemgetter(2), reverse=True)\n",
        "\n",
        "    char_images = []\n",
        "    #top m choices\n",
        "    for i in range(len(l_r)): # #np.mean(fd_mean))):\n",
        "        if l_r[i] in l_r_sorted[0:int(700/np.mean(fd_mean))]:\n",
        "            img_crop = image_example[:, l_r[i][0]: l_r[i][1]]\n",
        "            img_bin = resize(img_crop, (15,19))\n",
        "            char_images.append(img_bin)\n",
        "    \n",
        "    if len(char_images) == 0:\n",
        "      continue\n",
        "    X_test = np.asarray(char_images)\n",
        "    X_test = X_test.reshape((X_test.shape[0], 15, 19, 1))\n",
        "    class_probs = np.asarray(classifier.predict(X_test))\n",
        "    max_scores = np.max(class_probs, axis=1)\n",
        "    max_scores_index = np.argmax(class_probs, axis=1)\n",
        "    output_str = ''\n",
        "    for i in range(len(max_scores_index)):\n",
        "        # if max_scores[i] < 0.75:\n",
        "        #   continue\n",
        "        s = max_scores_index[i]\n",
        "        for k, v in label_map.items():\n",
        "            if v == s:\n",
        "                output_str += k\n",
        "    # print(char_str, \"->\", output_str)\n",
        "    dist_list.append(levenshtein_distance(output_str, char_str))\n",
        "    dist1_list.append(levenshtein_distance(output_str, char_str) * len(char_str))\n",
        "    len_list.append(len(char_str))\n",
        "\n",
        "    output_str = ''\n",
        "    for i in range(len(max_scores_index)):\n",
        "        if max_scores[i] < 0.5:\n",
        "          continue\n",
        "        s = max_scores_index[i]\n",
        "        for k, v in label_map.items():\n",
        "            if v == s:\n",
        "                output_str += k\n",
        "    # print(char_str, \"->\", output_str)\n",
        "    dist_list1.append(levenshtein_distance(output_str, char_str))\n",
        "    dist1_list1.append(levenshtein_distance(output_str, char_str) * len(char_str))\n",
        "    len_list1.append(len(char_str))\n",
        "\n",
        "    output_str = ''\n",
        "    for i in range(len(max_scores_index)):\n",
        "        if max_scores[i] < 0.75:\n",
        "          continue\n",
        "        s = max_scores_index[i]\n",
        "        for k, v in label_map.items():\n",
        "            if v == s:\n",
        "                output_str += k\n",
        "    # print(char_str, \"->\", output_str)\n",
        "    dist_list2.append(levenshtein_distance(output_str, char_str))\n",
        "    dist1_list2.append(levenshtein_distance(output_str, char_str) * len(char_str))\n",
        "    len_list2.append(len(char_str))\n",
        "    \n"
      ],
      "execution_count": null,
      "outputs": []
    },
    {
      "cell_type": "code",
      "metadata": {
        "colab": {
          "base_uri": "https://localhost:8080/"
        },
        "id": "tZJCYzH_c1bJ",
        "outputId": "feec9726-690d-46e2-96d9-212134cc56e5"
      },
      "source": [
        "PCR = 0\n",
        "for i in range(len(dist_list)):\n",
        "  PCR += min(dist_list[i], len_list[i])\n",
        "PCR /= sum(len_list)\n",
        "PCR = (1 - PCR) * 100\n",
        "\n",
        "print(PCR) #test-data\n",
        "print(np.mean(dist_list))\n",
        "print(np.sum([dist_list[i] * len_list[i] for i in range(len(dist_list))])/ np.sum(len_list))\n",
        "\n",
        "PCR = 0\n",
        "for i in range(len(dist_list1)):\n",
        "  PCR += min(dist_list1[i], len_list1[i])\n",
        "PCR /= sum(len_list1)\n",
        "PCR = (1 - PCR) * 100\n",
        "print('0.5')\n",
        "print(PCR) #test-data\n",
        "print(np.mean(dist_list1))\n",
        "print(np.sum([dist_list1[i] * len_list1[i] for i in range(len(dist_list1))])/ np.sum(len_list1))\n",
        "\n",
        "PCR = 0\n",
        "for i in range(len(dist_list2)):\n",
        "  PCR += min(dist_list2[i], len_list2[i])\n",
        "PCR /= sum(len_list2)\n",
        "PCR = (1 - PCR) * 100\n",
        "print('0.75')\n",
        "print(PCR) #test-data\n",
        "print(np.mean(dist_list2))\n",
        "print(np.sum([dist_list2[i] * len_list2[i] for i in range(len(dist_list2))])/ np.sum(len_list2))"
      ],
      "execution_count": null,
      "outputs": [
        {
          "output_type": "stream",
          "text": [
            "36.30338214210168\n",
            "25.02420091324201\n",
            "24.672197804780595\n",
            "0.5\n",
            "38.44101816814347\n",
            "24.04200913242009\n",
            "23.796307612757655\n",
            "0.75\n",
            "42.24269631231344\n",
            "22.447488584474886\n",
            "22.457776106423484\n"
          ],
          "name": "stdout"
        }
      ]
    },
    {
      "cell_type": "code",
      "metadata": {
        "colab": {
          "base_uri": "https://localhost:8080/"
        },
        "id": "RJMey6BZwWMg",
        "outputId": "46f26605-b6b7-411a-ce6a-dacc7cdc981b"
      },
      "source": [
        "# print(sum(dist1_list)/sum(len_list))\n",
        "# print(np.mean(dist_list))\n",
        "np.max(len_list)"
      ],
      "execution_count": null,
      "outputs": [
        {
          "output_type": "execute_result",
          "data": {
            "text/plain": [
              "67"
            ]
          },
          "metadata": {
            "tags": []
          },
          "execution_count": 53
        }
      ]
    },
    {
      "cell_type": "code",
      "metadata": {
        "colab": {
          "base_uri": "https://localhost:8080/"
        },
        "id": "xbdUftWNIJyr",
        "outputId": "9161de12-3d39-40ed-c9f2-b5b3472e362e"
      },
      "source": [
        "max_scores"
      ],
      "execution_count": null,
      "outputs": [
        {
          "output_type": "execute_result",
          "data": {
            "text/plain": [
              "array([0.96047205, 0.6357403 , 0.8724603 , 0.9076619 , 0.9999275 ,\n",
              "       0.9062184 , 0.99963224, 0.99967706, 0.7622905 , 0.999509  ,\n",
              "       0.6582342 , 0.7185718 , 0.97509015, 0.9768987 , 0.99965084,\n",
              "       0.98219866, 0.6306616 , 0.48982707, 0.5735222 , 0.9990792 ,\n",
              "       0.94424284, 0.97581565, 0.964107  , 0.4717945 , 0.9167646 ,\n",
              "       0.7314567 , 0.99992275, 0.998645  , 0.5330241 , 0.6723378 ,\n",
              "       0.97614163, 0.4896384 , 0.65109986, 0.9998087 , 0.9999949 ,\n",
              "       0.58272135, 0.9156838 , 0.6782068 ], dtype=float32)"
            ]
          },
          "metadata": {
            "tags": []
          },
          "execution_count": 59
        }
      ]
    },
    {
      "cell_type": "code",
      "metadata": {
        "id": "PtggI-uK3qU8"
      },
      "source": [
        "#take m segments according to max (p1 + p2 +c)\n",
        "dist_list = []\n",
        "dist1_list = []\n",
        "len_list = []\n",
        "_fd_min = np.floor(np.mean(fd_min))\n",
        "_fd_max = np.ceil(np.mean(fd_max))\n",
        "_fd_mean = np.mean(fd_mean) #[18.18]\n",
        "\n",
        "#predict cuts\n",
        "with torch.no_grad():\n",
        "    for t, x_y in enumerate(loader_val):\n",
        "        x = x_y['image']\n",
        "        y = x_y['landmark']\n",
        "        x = x.to(device=device, dtype=dtype)  # move to device, e.g. GPU\n",
        "        y = y.to(device=device, dtype=torch.float32)\n",
        "        char_val = x_y['values']\n",
        "        scores_test = model(x)\n",
        "batch_size, _, ht, wd = x.size()\n",
        "#convert to numpy\n",
        "scores_temp = scores_test.cpu().detach().numpy()\n",
        "scores_temp = scores_temp.reshape((batch_size, -1))\n",
        "\n",
        "images = x.detach().cpu().detach().numpy()\n",
        "images = images.reshape((batch_size,ht,wd))\n",
        "#actual result\n",
        "scores_actual = y.detach().cpu().detach().numpy()\n",
        "scores_actual = scores_actual.reshape((scores_actual.shape[0], -1))\n",
        "for i in range(batch_size):\n",
        "    image_example = images[i]\n",
        "    score_example = scores_temp[i]\n",
        "    \n",
        "    index_actual = np.where(scores_actual[i]==1)[0]\n",
        "    # print(np.sum(scores_actual[100]))\n",
        "    char_list = char_list_dict[int(char_val[i])]\n",
        "    # orig str\n",
        "    char_str = ''\n",
        "    for c in char_list:\n",
        "        char_str += c\n",
        "\n",
        "    #local maxima indices\n",
        "    index_P = argrelextrema(score_example, np.greater)[0] #index of local maxima\n",
        "    index_P_01 = np.zeros(score_example.shape) \n",
        "    index_P_01[index_P] = 1 \n",
        "\n",
        "\n",
        "    #dist between left and right index of cuts\n",
        "    #len(index_P)xlen(index_P)\n",
        "    dist = pairwise_distances(np.asarray(index_P).reshape(-1,1), metric='manhattan') \n",
        "    #index pairs such that width is betwwen fd-min and fd-max\n",
        "    l, r = np.where((dist>= np.min(fd_min)) & (dist<= np.min(fd_max)))\n",
        "    #top m = img_width/mean_char_width choices\n",
        "    l_r = []\n",
        "\n",
        "    for j in range(len(l)):\n",
        "        if l[j] < r[j]:\n",
        "            try:\n",
        "                l_r.append([ index_P[int(l[j])], index_P[int(r[j])], \n",
        "                                     score_example[index_P[int(l[j])]] + score_example[index_P[int(r[j])]] ])\n",
        "            except TypeError:\n",
        "                print(\"AAH\", l[j], r[j], len(index_P), )\n",
        "\n",
        "    # l_r = l_r[l_r[:,2].argsort()] #sort according to P(l) +P(r)\n",
        "    # l_r_sorted = sorted(l_r, key = itemgetter(2), reverse=True)\n",
        "\n",
        "    char_images = []\n",
        "    #top m choices\n",
        "    for i in range(len(l_r)): # #np.mean(fd_mean))):\n",
        "        # if l_r[i] in l_r_sorted[0:int(700/np.mean(fd_mean))]:\n",
        "        img_crop = image_example[:, l_r[i][0]: l_r[i][1]]\n",
        "        img_bin = resize(img_crop, (15,19))\n",
        "        char_images.append(img_bin)\n",
        "    \n",
        "    if len(char_images) == 0:\n",
        "      continue\n",
        "    X_test = np.asarray(char_images)\n",
        "    X_test = X_test.reshape((X_test.shape[0], 15, 19, 1))\n",
        "    class_probs = np.asarray(classifier.predict(X_test))\n",
        "    max_scores = np.max(class_probs, axis=1)\n",
        "    max_scores_index = np.argmax(class_probs, axis=1)\n",
        "    for i in range(len(l_r)):\n",
        "      l_r[i][2] /= 2\n",
        "      l_r[i][2] += max_scores[i]\n",
        "      l_r[i].append(max_scores_index[i])\n",
        "    l_r_sorted = sorted(l_r, key = itemgetter(2), reverse=True)\n",
        "\n",
        "    output_str = ''\n",
        "    for i in range(len(l_r)):\n",
        "      if l_r[i] in l_r_sorted[0:int(700/np.mean(fd_mean))]:\n",
        "        s = l_r[i][3]\n",
        "        for k, v in label_map.items():\n",
        "          if v == s:\n",
        "            output_str += k\n",
        "\n",
        "        \n",
        "    # print(char_str, \"->\", output_str)\n",
        "    dist_list.append(levenshtein_distance(output_str, char_str))\n",
        "    dist1_list.append(levenshtein_distance(output_str, char_str) * len(char_str))\n",
        "    len_list.append(len(char_str))\n",
        "    \n"
      ],
      "execution_count": null,
      "outputs": []
    },
    {
      "cell_type": "code",
      "metadata": {
        "colab": {
          "base_uri": "https://localhost:8080/"
        },
        "id": "vXQCZOiYRAPn",
        "outputId": "4adb5e6c-7049-4c52-bfa9-5936e839b515"
      },
      "source": [
        "PCR = 0\n",
        "for i in range(len(dist_list)):\n",
        "  PCR += min(dist_list[i], len_list[i])\n",
        "PCR /= sum(len_list)\n",
        "PCR = (1 - PCR) * 100\n",
        "\n",
        "print(PCR) #test-data\n",
        "print(np.mean(dist_list))\n",
        "print(np.sum([dist_list[i] * len_list[i] for i in range(len(dist_list))])/ np.sum(len_list))"
      ],
      "execution_count": null,
      "outputs": [
        {
          "output_type": "stream",
          "text": [
            "37.30932850729781\n",
            "24.518721461187216\n",
            "24.27055961642419\n"
          ],
          "name": "stdout"
        }
      ]
    },
    {
      "cell_type": "code",
      "metadata": {
        "id": "XSDTR1pbRxYw"
      },
      "source": [
        "_fd_max = np.min(fd_max)\n",
        "_fd_min = np.min(fd_min)\n",
        "dp_matrix = np.zeros((int(700/np.min(fd_min)), 700))\n",
        "x_range = {int(700/np.min(fd_min)) : [700 - _fd_max, 700]}\n",
        "for i in range(dp_matrix.shape[0]-1, 0 , -1):\n",
        "  x_range[i] = [x_range[i+1][0]-_fd_max, x_range[i+1][1] - _fd_min]\n",
        "# dp_matrix[0, 0: _fd_max + 1] = 0.5 * index_P[0 : _fd_max + 1]\n",
        "# for k in range(1, dp_matrix.shape[0]):\n",
        "#   for x>\n"
      ],
      "execution_count": null,
      "outputs": []
    },
    {
      "cell_type": "code",
      "metadata": {
        "id": "qRBcpT7wpMgr"
      },
      "source": [
        "# fd_min = 2\n",
        "# fd_max = 56\n",
        "# fd_mean = 32\n",
        "for i in range(1):\n",
        "    image_example = images[i]\n",
        "    score_example = scores_temp[i]\n",
        "    \n",
        "    # index_actual = np.where(scores_actual[i]==1)[0]\n",
        "    # # print(np.sum(scores_actual[100]))\n",
        "    # char_list = char_list_dict[int(char_val[i])]\n",
        "    # char_str = ''\n",
        "    # for c in char_list:\n",
        "    #     char_str += c\n",
        "\n",
        "    # #local maxima indices\n",
        "    # index_P = argrelextrema(score_example, np.greater)[0] \n",
        "    # index_P_01 = np.zeros(score_example.shape)\n",
        "    # index_P_01[index_P] = 1\n",
        "\n",
        "    # dp = np.zeros((int(800/fd_min), 800))\n",
        "    # for i in range(dp.shape[0]):\n",
        "    #   if i == 0:\n",
        "    #     dp[i, 0 : fd_max] = 0.5 * score_example[0 : fd_max]\n",
        "    #   else:\n",
        "    #     candidate_characters = []\n",
        "    #     for j in range(fd_max, dp.shape[1]):\n",
        "    #       if dp[i-1, j-fd_max] == 0.0:\n",
        "    #         break\n",
        "    #       prev_cut = np.argmax(dp[i-1, j-fd_max : j-fd_min]) + (j-fd_max)\n",
        "    #       dp[i, j] = 0.5 * score_example[j] + dp[i-1, prev_cut]\n",
        "    #       candidate_characters.append(resize(image_example[:, prev_cut:j], (15,19)))\n",
        "    #     X_test=np.asarray(candidate_characters)\n",
        "    #     X_test = X_test.reshape((X_test.shape[0], 15, 19, 1))\n",
        "    #     class_probs = np.asarray(classifier.predict(X_test))\n",
        "    #     max_classifier_scores = np.max(class_probs, axis=1)\n",
        "    #     k=0\n",
        "    #     for j in range(fd_max, dp.shape[1]):   \n",
        "    #       if dp[i-1, j-fd_max] == 0.0:\n",
        "    #         break\n",
        "    #       dp[i,j] += max_classifier_scores[k]\n",
        "    #       k += 1\n",
        "\n",
        "    dp = [[np.argmax(score_example[0:fd_max]), 0.5*max(score_example[0:fd_max])]]\n",
        "    for k in range(1, int(800/18.18)):\n",
        "        dp_temp = {}\n",
        "        candidate_characters = []\n",
        "        print(dp[k-1][0]+fd_min, dp[k-1][0]+fd_min+fd_max)\n",
        "        for x in range(dp[k-1][0]+fd_min, dp[k-1][0]+fd_min+fd_max+1):\n",
        "            dp_temp[x] = dp[k-1][1] + 0.5*score_example[x] \n",
        "            candidate_characters.append(resize(image_example[:, dp[k-1][0]:x], (28,28)))\n",
        "        X_test=np.asarray(candidate_characters)\n",
        "        X_test = X_test.reshape((X_test.shape[0], 28, 28, 1))\n",
        "        class_probs = np.asarray(classifier.predict(X_test))\n",
        "        max_classifier_scores = np.max(class_probs, axis=1)\n",
        "        x = dp[k-1][0]+fd_min\n",
        "        for i in range(max_classifier_scores.shape[0]):\n",
        "            dp_temp[x] += max_classifier_scores[i]\n",
        "        x_new, val = max(dp_temp.items(), key=itemgetter(1))\n",
        "        dp.append([x_new, val])"
      ],
      "execution_count": null,
      "outputs": []
    }
  ]
}